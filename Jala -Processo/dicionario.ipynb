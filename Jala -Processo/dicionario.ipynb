{
 "cells": [
  {
   "cell_type": "code",
   "execution_count": 2,
   "metadata": {},
   "outputs": [
    {
     "name": "stdout",
     "output_type": "stream",
     "text": [
      "Dicionário resultante:\n",
      "1: 4\n",
      "2: 1\n",
      "3: 1\n"
     ]
    }
   ],
   "source": [
    "def adicionar_ou_incrementar(dicionario, chave):\n",
    "    if chave in dicionario:\n",
    "        dicionario[chave] += 1\n",
    "    else:\n",
    "        dicionario[chave] = 1\n",
    "meu_dicionario = {}\n",
    "while True:\n",
    "    chave = input(\"Digite a chave  e apos isso o valor ou 'sair' para encerrar: \")\n",
    "    \n",
    "    if chave.lower() == 'sair':\n",
    "        break\n",
    "    adicionar_ou_incrementar(meu_dicionario, chave)\n",
    "print(\"Dicionário resultante:\")\n",
    "for chave, valor in meu_dicionario.items():\n",
    "    print(f\"{chave}: {valor}\")\n"
   ]
  }
 ],
 "metadata": {
  "kernelspec": {
   "display_name": "Python 3",
   "language": "python",
   "name": "python3"
  },
  "language_info": {
   "codemirror_mode": {
    "name": "ipython",
    "version": 3
   },
   "file_extension": ".py",
   "mimetype": "text/x-python",
   "name": "python",
   "nbconvert_exporter": "python",
   "pygments_lexer": "ipython3",
   "version": "3.11.2"
  },
  "orig_nbformat": 4
 },
 "nbformat": 4,
 "nbformat_minor": 2
}
