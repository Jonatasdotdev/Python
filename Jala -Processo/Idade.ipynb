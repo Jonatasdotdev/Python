{
 "cells": [
  {
   "cell_type": "code",
   "execution_count": 2,
   "metadata": {},
   "outputs": [
    {
     "name": "stdout",
     "output_type": "stream",
     "text": [
      "Com 100 anos, a pessoa está na fase de Muito idoso.\n"
     ]
    }
   ],
   "source": [
    "class Pessoa:\n",
    "    def __init__(self, idade):\n",
    "        self.idade = idade\n",
    "\n",
    "    def determinar_estagio_vida(self):\n",
    "        if self.idade <= 2:\n",
    "            return \"criança\"\n",
    "        elif self.idade <= 10:\n",
    "            return \"adolescente\"\n",
    "        elif self.idade <= 18:\n",
    "            return \"jovem\"\n",
    "        elif self.idade <= 25:\n",
    "            return \"adulto\"\n",
    "        elif self.idade <= 50:\n",
    "            return \"coroa\"\n",
    "        elif self.idade <= 60:\n",
    "            return \"ancião\"\n",
    "        else:\n",
    "            return \"Muito idoso\"\n",
    "\n",
    "idade = int(input(\"Digite a idade da pessoa: \"))\n",
    "pessoa = Pessoa(idade)\n",
    "estagio_vida = pessoa.determinar_estagio_vida()\n",
    "print(f\"Com {idade} anos, a pessoa está na fase de {estagio_vida}.\")\n"
   ]
  }
 ],
 "metadata": {
  "kernelspec": {
   "display_name": "Python 3",
   "language": "python",
   "name": "python3"
  },
  "language_info": {
   "codemirror_mode": {
    "name": "ipython",
    "version": 3
   },
   "file_extension": ".py",
   "mimetype": "text/x-python",
   "name": "python",
   "nbconvert_exporter": "python",
   "pygments_lexer": "ipython3",
   "version": "3.11.2"
  },
  "orig_nbformat": 4
 },
 "nbformat": 4,
 "nbformat_minor": 2
}
