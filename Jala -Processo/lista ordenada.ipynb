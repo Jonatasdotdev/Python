{
 "cells": [
  {
   "cell_type": "code",
   "execution_count": null,
   "metadata": {},
   "outputs": [],
   "source": [
    "\n",
    "numeros = [5, 1, 3, 2, 4]\n",
    "\n",
    "for i in range(1, len(numeros)):\n",
    "    valor_atual = numeros[i]\n",
    "    j = i - 1\n",
    "    while j >= 0 and valor_atual < numeros[j]:\n",
    "        numeros[j + 1] = numeros[j]\n",
    "        j -= 1\n",
    "    numeros[j + 1] = valor_atual\n",
    "\n",
    "print(\"Lista ordenada:\", numeros)\n"
   ]
  }
 ],
 "metadata": {
  "language_info": {
   "name": "python"
  }
 },
 "nbformat": 4,
 "nbformat_minor": 2
}
