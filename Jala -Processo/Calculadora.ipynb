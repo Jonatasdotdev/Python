{
 "cells": [
  {
   "cell_type": "code",
   "execution_count": 3,
   "metadata": {},
   "outputs": [
    {
     "name": "stdout",
     "output_type": "stream",
     "text": [
      "Calculadora Brastemp - Modelo 123F\n",
      "Soma: 8\n",
      "Subtração: 6\n",
      "Multiplicação: 42\n",
      "Divisão: 4.0\n"
     ]
    }
   ],
   "source": [
    "class Calculadora:\n",
    "    def __init__(self, marca, modelo):\n",
    "        self.marca = marca\n",
    "        self.modelo = modelo\n",
    "    def soma(self, a, b):\n",
    "        return a + b\n",
    "\n",
    "    def subtracao(self, a, b):\n",
    "        return a - b\n",
    "    \n",
    "    def multiplicacao(self, a, b):\n",
    "        return a * b\n",
    "\n",
    "    def divisao(self, a, b):\n",
    "        if b == 0:\n",
    "            return \"Não é possível dividir por zero.\"\n",
    "        return a / b\n",
    "    \n",
    "    def exibir_info(self):\n",
    "        return f\"Calculadora {self.marca} - Modelo {self.modelo}\"\n",
    "    \n",
    "minha_calculadora = Calculadora(\"Brastemp\", \"123F\")\n",
    "print(minha_calculadora.exibir_info())\n",
    "print(\"Soma:\", minha_calculadora.soma(5, 3))\n",
    "print(\"Subtração:\", minha_calculadora.subtracao(10, 4))\n",
    "print(\"Multiplicação:\", minha_calculadora.multiplicacao(6, 7))\n",
    "print(\"Divisão:\", minha_calculadora.divisao(8, 2))\n"
   ]
  }
 ],
 "metadata": {
  "kernelspec": {
   "display_name": "Python 3",
   "language": "python",
   "name": "python3"
  },
  "language_info": {
   "codemirror_mode": {
    "name": "ipython",
    "version": 3
   },
   "file_extension": ".py",
   "mimetype": "text/x-python",
   "name": "python",
   "nbconvert_exporter": "python",
   "pygments_lexer": "ipython3",
   "version": "3.11.2"
  },
  "orig_nbformat": 4
 },
 "nbformat": 4,
 "nbformat_minor": 2
}
