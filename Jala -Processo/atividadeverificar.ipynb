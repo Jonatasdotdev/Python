{
 "cells": [
  {
   "cell_type": "code",
   "execution_count": 2,
   "metadata": {},
   "outputs": [
    {
     "name": "stdout",
     "output_type": "stream",
     "text": [
      "O número 7 é maior que o limite especificado (5).\n",
      "O número 7 é ímpar.\n"
     ]
    }
   ],
   "source": [
    "class VerificadorNumero:\n",
    "    def __init__(self, numero, limite):\n",
    "        self.numero = numero\n",
    "        self.limite = limite\n",
    "        \n",
    "    def verificar_limite(self):\n",
    "        if self.numero > self.limite:\n",
    "            print(f'O numero {self.numero} e maior que o limite({self.limite}).')\n",
    "        else:\n",
    "            print(f'O numero {self.numero} não e maior que o limite({self.limite}).')\n",
    "\n",
    "    def verificar_paridade(self):\n",
    "        if self.numero % 2 == 0:\n",
    "            print(f'O número {self.numero} é par.')\n",
    "        else:\n",
    "            print(f'O número {self.numero} é ímpar.')\n",
    "\n",
    "numero = int(input('Digite um número: '))\n",
    "limite = int(input('Digite um limite: '))\n",
    "\n",
    "verificador = VerificadorNumero(numero, limite)\n",
    "\n",
    "verificador.verificar_limite()\n",
    "verificador.verificar_paridade()\n"
   ]
  }
 ],
 "metadata": {
  "kernelspec": {
   "display_name": "Python 3",
   "language": "python",
   "name": "python3"
  },
  "language_info": {
   "codemirror_mode": {
    "name": "ipython",
    "version": 3
   },
   "file_extension": ".py",
   "mimetype": "text/x-python",
   "name": "python",
   "nbconvert_exporter": "python",
   "pygments_lexer": "ipython3",
   "version": "3.11.2"
  },
  "orig_nbformat": 4
 },
 "nbformat": 4,
 "nbformat_minor": 2
}
