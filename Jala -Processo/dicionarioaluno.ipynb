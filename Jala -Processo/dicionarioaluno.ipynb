{
 "cells": [
  {
   "cell_type": "code",
   "execution_count": 1,
   "metadata": {},
   "outputs": [
    {
     "name": "stdout",
     "output_type": "stream",
     "text": [
      "Aluno adicionado com matrícula matricula_1.\n",
      "Aluno adicionado com matrícula matricula_2.\n",
      "Aluno com RG 12324 encontrado: matricula: matricula_1, nome: Jimmy\n",
      "nenhum aluno encontrado com RG 5555.\n"
     ]
    }
   ],
   "source": [
    "# Criar um dicionário que guarde a informação de alunos onde a matricula seria a chave, \n",
    "#e o valor seria os valores dos alunos que também estariam dentro de um dicionário por exemplo:\n",
    "#   Alunos = {\n",
    "#         “matricula_1”:{\n",
    "      #                “rg”:”12324”\n",
    "      #                “nome”:”jimmy”,\n",
    "      #                “notas”:[10,5,6]},\n",
    "    #       “matricula_2”:{\n",
    "      #                “rg”: “7890”\n",
    "      #                “nome”:”freddy”,\n",
    "      #                “notas”:[10,0,0]}\n",
    "#       }}\n",
    "# implementar um metodo que verifique si um aluno ja existe. - rg\n",
    "class registro_aluno:\n",
    "    def __init__(self):\n",
    "        self.Alunos = {}\n",
    "    def adicionar_aluno(self, matricula, rg, nome, notas):\n",
    "        if matricula not in self.Alunos:\n",
    "            self.Alunos[matricula] = {\"rg\": rg, \"nome\": nome, \"notas\": notas}\n",
    "            print(f\"Aluno adicionado com matrícula {matricula}.\")\n",
    "        else:\n",
    "            print(f\"Aluno com matrícula {matricula} já existe.\")\n",
    "\n",
    "    def verificar_aluno_por_rg(self, rg):\n",
    "        for matricula, aluno_info in self.Alunos.items():\n",
    "            if aluno_info[\"rg\"] == rg:\n",
    "                return f\"Aluno com RG {rg} encontrado: matricula: {matricula}, nome: {aluno_info['nome']}\"\n",
    "        return f\"nenhum aluno encontrado com RG {rg}.\"\n",
    "\n",
    "\n",
    "registro = registro_aluno()\n",
    "\n",
    "registro.adicionar_aluno(\"matricula_1\", \"12324\", \"Jimmy\", [10, 5, 6])\n",
    "registro.adicionar_aluno(\"matricula_2\", \"7890\", \"Freddy\", [10, 0, 0])\n",
    "\n",
    "\n",
    "resultado = registro.verificar_aluno_por_rg(\"12324\")\n",
    "print(resultado)\n",
    "\n",
    "resultado = registro.verificar_aluno_por_rg(\"5555\")\n",
    "print(resultado)\n"
   ]
  }
 ],
 "metadata": {
  "kernelspec": {
   "display_name": "Python 3",
   "language": "python",
   "name": "python3"
  },
  "language_info": {
   "codemirror_mode": {
    "name": "ipython",
    "version": 3
   },
   "file_extension": ".py",
   "mimetype": "text/x-python",
   "name": "python",
   "nbconvert_exporter": "python",
   "pygments_lexer": "ipython3",
   "version": "3.11.2"
  }
 },
 "nbformat": 4,
 "nbformat_minor": 2
}
