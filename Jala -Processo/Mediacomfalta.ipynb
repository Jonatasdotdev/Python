{
 "cells": [
  {
   "cell_type": "code",
   "execution_count": 1,
   "metadata": {},
   "outputs": [
    {
     "name": "stdout",
     "output_type": "stream",
     "text": [
      "Situaçao do aluno jonatas: prova final\n"
     ]
    }
   ],
   "source": [
    "class Aluno:\n",
    "    def __init__(self, nome, nota_final, faltas):\n",
    "        self.nome = nome\n",
    "        self.nota_final = nota_final\n",
    "        self.faltas = faltas\n",
    "    def esta_aprovado(self):\n",
    "        if self.nota_final >= 70 and self.faltas <= 15:\n",
    "            return \"aprovado\"\n",
    "        elif self.nota_final < 50 or self.faltas > 15:\n",
    "            return \"reprovado\"\n",
    "        elif self.nota_final >= 50 and self.nota_final < 70 and self.faltas <= 15:\n",
    "            return \"prova final\"\n",
    "        else:\n",
    "            return \"condiçao invalida\"\n",
    "def ler_dados_aluno():\n",
    "    nome = input(\"Nome do aluno: \")\n",
    "    nota_final = float(input(\"Nota final: \"))\n",
    "    faltas = int(input(\"Numero de faltas: \"))\n",
    "    return Aluno(nome, nota_final, faltas)\n",
    "\n",
    "aluno = ler_dados_aluno()\n",
    "resultado = aluno.esta_aprovado()\n",
    "print(f\"Situaçao do aluno {aluno.nome}: {resultado}\")\n"
   ]
  }
 ],
 "metadata": {
  "kernelspec": {
   "display_name": "Python 3",
   "language": "python",
   "name": "python3"
  },
  "language_info": {
   "codemirror_mode": {
    "name": "ipython",
    "version": 3
   },
   "file_extension": ".py",
   "mimetype": "text/x-python",
   "name": "python",
   "nbconvert_exporter": "python",
   "pygments_lexer": "ipython3",
   "version": "3.11.2"
  },
  "orig_nbformat": 4
 },
 "nbformat": 4,
 "nbformat_minor": 2
}
